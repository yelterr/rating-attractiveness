{
 "cells": [
  {
   "cell_type": "markdown",
   "id": "85b1cc88-c2e5-4891-842a-ab76106ebb2a",
   "metadata": {},
   "source": [
    "# FaceNet Regression"
   ]
  },
  {
   "cell_type": "code",
   "execution_count": 20,
   "id": "a148568d-d764-4014-88c5-78ac27cd8e74",
   "metadata": {},
   "outputs": [
    {
     "name": "stdout",
     "output_type": "stream",
     "text": [
      "WARNING:tensorflow:From C:\\Users\\gamer\\AppData\\Local\\Programs\\Python\\Python311\\Lib\\site-packages\\tensorflow_estimator\\python\\estimator\\util.py:74: The name tf.train.SessionRunHook is deprecated. Please use tf.estimator.SessionRunHook instead.\n",
      "\n",
      "WARNING:tensorflow:From C:\\Users\\gamer\\AppData\\Local\\Programs\\Python\\Python311\\Lib\\site-packages\\tensorflow_hub\\native_module.py:92: The name tf.GraphKeys is deprecated. Please use tf.compat.v1.GraphKeys instead.\n",
      "\n",
      "WARNING:tensorflow:From C:\\Users\\gamer\\AppData\\Local\\Programs\\Python\\Python311\\Lib\\site-packages\\tensorflow_hub\\saved_model_module.py:40: The name tf.saved_model.constants.LEGACY_INIT_OP_KEY is deprecated. Please use tf.compat.v1.saved_model.constants.LEGACY_INIT_OP_KEY instead.\n",
      "\n"
     ]
    }
   ],
   "source": [
    "import numpy as np\n",
    "import matplotlib.pyplot as plt\n",
    "import tensorflow as tf\n",
    "import tensorflow_hub as hub\n",
    "import pathlib\n",
    "import PIL"
   ]
  },
  {
   "cell_type": "markdown",
   "id": "f83afd55-23de-4f7c-918a-834a6eeb37e8",
   "metadata": {
    "jp-MarkdownHeadingCollapsed": true
   },
   "source": [
    "## Retrieve All Data"
   ]
  },
  {
   "cell_type": "code",
   "execution_count": 6,
   "id": "3e67a021-3f87-4d5c-b63f-6135d292c9f2",
   "metadata": {},
   "outputs": [],
   "source": [
    "img_height = 224\n",
    "img_width = 224"
   ]
  },
  {
   "cell_type": "code",
   "execution_count": 7,
   "id": "3de6e4ca-1e6b-4996-99a6-d02b48735a96",
   "metadata": {},
   "outputs": [
    {
     "name": "stdout",
     "output_type": "stream",
     "text": [
      "[3.433333 2.9      3.966667 ... 3.05     2.4      2.666667]\n",
      "[2.333333 3.45     2.7      ... 2.533333 4.433333 3.05    ]\n"
     ]
    }
   ],
   "source": [
    "train_txt = \"data/regression_train_test/train_ratings.txt\"\n",
    "test_txt = \"data/regression_train_test/test_ratings.txt\"\n",
    "\n",
    "with open(train_txt) as train_ratings:\n",
    "    train_ratings = train_ratings.readlines()[0]\n",
    "    train_ratings = np.array(train_ratings.split())\n",
    "    train_ratings = train_ratings.astype(float)\n",
    "\n",
    "with open(test_txt) as test_ratings:\n",
    "    test_ratings = test_ratings.readlines()[0]\n",
    "    test_ratings = np.array(test_ratings.split())\n",
    "    test_ratings = test_ratings.astype(float)\n",
    "\n",
    "print(train_ratings)\n",
    "print(test_ratings)"
   ]
  },
  {
   "cell_type": "code",
   "execution_count": 8,
   "id": "0b9fd0dd-907d-4b1f-b3da-679f76f83c9a",
   "metadata": {},
   "outputs": [],
   "source": [
    "def image_to_tensor(impath):\n",
    "    img = PIL.Image.open(impath).resize((img_width, img_height))\n",
    "    img = np.array(img)\n",
    "    tensor = tf.image.convert_image_dtype(img, dtype=tf.float16, saturate=False, name=None)\n",
    "    return tensor"
   ]
  },
  {
   "cell_type": "code",
   "execution_count": 9,
   "id": "10789240-34c4-4240-bbec-45b0c2c857cb",
   "metadata": {},
   "outputs": [],
   "source": [
    "train_dir = pathlib.Path(\"data/all_images_cropped/\")\n",
    "test_dir = pathlib.Path(\"data/all_images_cropped/\")\n",
    "\n",
    "train_images = list(train_dir.glob(\"*_train/*.jpg\"))\n",
    "train_images = sorted(train_images, key=lambda x: str(x)[str(x).index(\"_train\")+7:])\n",
    "test_images = list(test_dir.glob(\"*_test/*.jpg\"))\n",
    "test_images = sorted(test_images, key=lambda x: str(x)[str(x).index(\"_test\")+6:])\n",
    "\n",
    "x_train = np.array([image_to_tensor(impath) for impath in train_images])\n",
    "y_train = train_ratings\n",
    "\n",
    "x_test = np.array([image_to_tensor(impath) for impath in test_images])\n",
    "y_test = test_ratings"
   ]
  },
  {
   "cell_type": "code",
   "execution_count": 10,
   "id": "eeaf8266-cef0-4141-bf7c-4701c98d0134",
   "metadata": {},
   "outputs": [],
   "source": [
    "def extract_ratings(text_path):\n",
    "    with open(text_path) as ratings:\n",
    "        ratings = ratings.readlines()[0]\n",
    "        ratings = np.array(ratings.split())\n",
    "        ratings = ratings.astype(float)\n",
    "\n",
    "    return ratings"
   ]
  },
  {
   "cell_type": "code",
   "execution_count": 11,
   "id": "4f1a03b8-5b80-49d9-8392-13ca68834838",
   "metadata": {},
   "outputs": [],
   "source": [
    "m_train_txt = \"data/all_images_cropped/m_train_ratings\"\n",
    "f_train_txt = \"data/all_images_cropped/f_train_ratings\"\n",
    "\n",
    "m_train_ratings = extract_ratings(m_train_txt)\n",
    "f_train_ratings = extract_ratings(f_train_txt)"
   ]
  },
  {
   "cell_type": "code",
   "execution_count": 12,
   "id": "8c50c67a-5d40-4411-a234-c31e2477a068",
   "metadata": {},
   "outputs": [],
   "source": [
    "m_test_txt = \"data/all_images_cropped/m_test_ratings\"\n",
    "f_test_txt = \"data/all_images_cropped/f_test_ratings\"\n",
    "\n",
    "m_test_ratings = extract_ratings(m_test_txt)\n",
    "f_test_ratings = extract_ratings(f_test_txt)"
   ]
  },
  {
   "cell_type": "code",
   "execution_count": 13,
   "id": "cbffb3a7-5f13-46c2-a57a-c97ca0183712",
   "metadata": {},
   "outputs": [],
   "source": [
    "m_train_dir = pathlib.Path(\"data/all_images_cropped/m_train\")\n",
    "f_train_dir = pathlib.Path(\"data/all_images_cropped/f_train\")\n",
    "m_test_dir = pathlib.Path(\"data/all_images_cropped/m_test\")\n",
    "f_test_dir = pathlib.Path(\"data/all_images_cropped/f_test\")\n",
    "\n",
    "m_train_images = list(m_train_dir.glob(\"*.jpg\"))\n",
    "f_train_images = list(f_train_dir.glob(\"*.jpg\"))\n",
    "m_test_images = list(m_test_dir.glob(\"*.jpg\"))\n",
    "f_test_images = list(f_test_dir.glob(\"*.jpg\"))\n",
    "\n",
    "m_x_train = np.array([image_to_tensor(impath) for impath in m_train_images])\n",
    "m_y_train = m_train_ratings\n",
    "\n",
    "f_x_train = np.array([image_to_tensor(impath) for impath in f_train_images])\n",
    "f_y_train = f_train_ratings\n",
    "\n",
    "m_x_test = np.array([image_to_tensor(impath) for impath in m_test_images])\n",
    "m_y_test = m_test_ratings\n",
    "\n",
    "f_x_test = np.array([image_to_tensor(impath) for impath in f_test_images])\n",
    "f_y_test = f_test_ratings"
   ]
  },
  {
   "cell_type": "markdown",
   "id": "bfd1886f-b029-493b-a617-437ebdf47cab",
   "metadata": {},
   "source": [
    "## Regression Without Gender Stratification"
   ]
  },
  {
   "cell_type": "code",
   "execution_count": 21,
   "id": "35a72c41-d3be-44a1-8076-92c424c324f2",
   "metadata": {
    "scrolled": true
   },
   "outputs": [
    {
     "name": "stdout",
     "output_type": "stream",
     "text": [
      "WARNING:tensorflow:From C:\\Users\\gamer\\AppData\\Local\\Programs\\Python\\Python311\\Lib\\site-packages\\tensorflow_hub\\resolver.py:120: The name tf.gfile.MakeDirs is deprecated. Please use tf.io.gfile.makedirs instead.\n",
      "\n"
     ]
    },
    {
     "name": "stderr",
     "output_type": "stream",
     "text": [
      "WARNING:tensorflow:From C:\\Users\\gamer\\AppData\\Local\\Programs\\Python\\Python311\\Lib\\site-packages\\tensorflow_hub\\resolver.py:120: The name tf.gfile.MakeDirs is deprecated. Please use tf.io.gfile.makedirs instead.\n",
      "\n"
     ]
    },
    {
     "name": "stdout",
     "output_type": "stream",
     "text": [
      "WARNING:tensorflow:From C:\\Users\\gamer\\AppData\\Local\\Programs\\Python\\Python311\\Lib\\site-packages\\tensorflow_hub\\module_v2.py:120: The name tf.saved_model.load_v2 is deprecated. Please use tf.compat.v2.saved_model.load instead.\n",
      "\n"
     ]
    },
    {
     "name": "stderr",
     "output_type": "stream",
     "text": [
      "WARNING:tensorflow:From C:\\Users\\gamer\\AppData\\Local\\Programs\\Python\\Python311\\Lib\\site-packages\\tensorflow_hub\\module_v2.py:120: The name tf.saved_model.load_v2 is deprecated. Please use tf.compat.v2.saved_model.load instead.\n",
      "\n"
     ]
    }
   ],
   "source": [
    "tfhub_url = \"https://tfhub.dev/google/tf2-preview/inception_v3/feature_vector/4\"  # Example URL, replace with FaceNet URL\n",
    "face_recognition_model = hub.load(tfhub_url)"
   ]
  },
  {
   "cell_type": "code",
   "execution_count": 22,
   "id": "c6fb017b-bc92-4fb0-b72c-c26033ef5719",
   "metadata": {},
   "outputs": [],
   "source": [
    "def preprocess_image(image_path):\n",
    "    img = tf.keras.preprocessing.image.load_img(image_path, target_size=(160, 160))\n",
    "    img_array = tf.keras.preprocessing.image.img_to_array(img)\n",
    "    img_array = tf.expand_dims(img_array, 0)\n",
    "    return img_array / 255.0  # Normalize pixel values to [0, 1]"
   ]
  },
  {
   "cell_type": "code",
   "execution_count": 23,
   "id": "2d1a7073-c580-4d38-8b93-1e621c950aa8",
   "metadata": {},
   "outputs": [],
   "source": [
    "def extract_embeddings(image_path):\n",
    "    preprocessed_image = preprocess_image(image_path)\n",
    "    embeddings = face_recognition_model(preprocessed_image)\n",
    "    return embeddings.numpy()"
   ]
  },
  {
   "cell_type": "code",
   "execution_count": 27,
   "id": "28d0c41f-c3a5-463c-b688-3b6bea4dcc28",
   "metadata": {},
   "outputs": [
    {
     "name": "stdout",
     "output_type": "stream",
     "text": [
      "Facial embeddings: 2048\n"
     ]
    }
   ],
   "source": [
    "image_path = \"data/my_images/shakira.jpg\"\n",
    "embeddings = extract_embeddings(image_path)\n",
    "print(\"Facial embeddings:\", embeddings[0])"
   ]
  },
  {
   "cell_type": "code",
   "execution_count": null,
   "id": "ec665942-74f4-4282-9039-df3fe9b6c61e",
   "metadata": {},
   "outputs": [],
   "source": []
  }
 ],
 "metadata": {
  "kernelspec": {
   "display_name": "Python 3 (ipykernel)",
   "language": "python",
   "name": "python3"
  },
  "language_info": {
   "codemirror_mode": {
    "name": "ipython",
    "version": 3
   },
   "file_extension": ".py",
   "mimetype": "text/x-python",
   "name": "python",
   "nbconvert_exporter": "python",
   "pygments_lexer": "ipython3",
   "version": "3.11.5"
  }
 },
 "nbformat": 4,
 "nbformat_minor": 5
}
