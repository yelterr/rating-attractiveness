{
 "cells": [
  {
   "cell_type": "markdown",
   "id": "6fa528be-bcda-4ae5-b32b-ed3533da32a1",
   "metadata": {},
   "source": [
    "# Organizing the Facial Attractiveness Data"
   ]
  },
  {
   "cell_type": "markdown",
   "id": "706ce660-58f7-4d34-8f6b-8ba09507964c",
   "metadata": {},
   "source": [
    "### Common Functions"
   ]
  },
  {
   "cell_type": "code",
   "execution_count": 1,
   "id": "897d533b-f57f-4c44-b188-eef04b3a41d0",
   "metadata": {},
   "outputs": [],
   "source": [
    "def split_image_rating(line):\n",
    "    line = line.replace(\"\\n\", \"\")\n",
    "    split_index = line.index(\" \")\n",
    "    file_name = line[:split_index]\n",
    "    rating = float(line[split_index+1:])\n",
    "\n",
    "    return file_name, rating"
   ]
  },
  {
   "cell_type": "markdown",
   "id": "ab388e9a-6020-46e5-a093-1a836780ff24",
   "metadata": {
    "jp-MarkdownHeadingCollapsed": true
   },
   "source": [
    "### Arranging Data For Classification"
   ]
  },
  {
   "cell_type": "code",
   "execution_count": 2,
   "id": "9be1ab9d-eafb-4d54-8f44-d1b7f1b51b8c",
   "metadata": {},
   "outputs": [],
   "source": [
    "import os\n",
    "import shutil"
   ]
  },
  {
   "cell_type": "code",
   "execution_count": 3,
   "id": "97bd7a04-ae80-46dd-bcbc-921e24b122ca",
   "metadata": {},
   "outputs": [],
   "source": [
    "os.mkdir(\"data/classification_train_test\")\n",
    "\n",
    "os.mkdir(\"data/classification_train_test/train\")\n",
    "os.mkdir(\"data/classification_train_test/test\")\n",
    "\n",
    "os.mkdir(\"data/classification_train_test/train/one\")\n",
    "os.mkdir(\"data/classification_train_test/train/two\")\n",
    "os.mkdir(\"data/classification_train_test/train/three\")\n",
    "os.mkdir(\"data/classification_train_test/train/four\")\n",
    "os.mkdir(\"data/classification_train_test/train/five\")\n",
    "\n",
    "os.mkdir(\"data/classification_train_test/test/one\")\n",
    "os.mkdir(\"data/classification_train_test/test/two\")\n",
    "os.mkdir(\"data/classification_train_test/test/three\")\n",
    "os.mkdir(\"data/classification_train_test/test/four\")\n",
    "os.mkdir(\"data/classification_train_test/test/five\")"
   ]
  },
  {
   "cell_type": "code",
   "execution_count": 4,
   "id": "9591c1a1-a23f-44ce-a854-25df0555648d",
   "metadata": {},
   "outputs": [],
   "source": [
    "def images_to_classes(scores_list, dir):\n",
    "    with open(scores_list) as file:\n",
    "        lines = file.readlines()\n",
    "        count = len(lines)\n",
    "        for line in lines:\n",
    "            image, rating = split_image_rating(line)\n",
    "            rating = round(rating)\n",
    "            impath = os.path.join(\"data\\original_scut_data\\Images\", image)\n",
    "\n",
    "            if rating == 1:\n",
    "                new_path = os.path.join(dir, \"one\")\n",
    "                shutil.copy(impath, new_path)\n",
    "            elif rating == 2:\n",
    "                new_path = os.path.join(dir, \"two\")\n",
    "                shutil.copy(impath, new_path)\n",
    "            elif rating == 3:\n",
    "                new_path = os.path.join(dir, \"three\")\n",
    "                shutil.copy(impath, new_path)\n",
    "            elif rating == 4:\n",
    "                new_path = os.path.join(dir, \"four\")\n",
    "                shutil.copy(impath, new_path)\n",
    "            elif rating == 5:\n",
    "                new_path = os.path.join(dir, \"five\")\n",
    "                shutil.copy(impath, new_path)\n",
    "            else:\n",
    "                print(\"???\")\n",
    "    print(f\"Successfully copied {count} files.\")"
   ]
  },
  {
   "cell_type": "code",
   "execution_count": 5,
   "id": "5c22a86b-45af-421a-b969-5d84265e07de",
   "metadata": {},
   "outputs": [
    {
     "name": "stdout",
     "output_type": "stream",
     "text": [
      "Successfully copied 3300 files.\n",
      "Successfully copied 2200 files.\n"
     ]
    }
   ],
   "source": [
    "train_list = \"data/original_scut_data/train_test_files/split_of_60%training and 40%testing/train.txt\"\n",
    "test_list = \"data/original_scut_data/train_test_files/split_of_60%training and 40%testing/test.txt\"\n",
    "\n",
    "train_dir = \"data/classification_train_test/train\"\n",
    "test_dir = \"data/classification_train_test/test\"\n",
    "\n",
    "images_to_classes(train_list, train_dir)\n",
    "images_to_classes(test_list, test_dir)"
   ]
  },
  {
   "cell_type": "markdown",
   "id": "9355175d-87c1-4eb3-9afd-bef1a0906d20",
   "metadata": {},
   "source": [
    "### Arranging Data for Regression"
   ]
  },
  {
   "cell_type": "code",
   "execution_count": 6,
   "id": "862b6091-8bfb-4258-b2b9-2ca876b8ac4d",
   "metadata": {},
   "outputs": [],
   "source": [
    "os.mkdir(\"data/regression_train_test\")\n",
    "\n",
    "os.mkdir(\"data/regression_train_test/train\")\n",
    "os.mkdir(\"data/regression_train_test/test\")"
   ]
  },
  {
   "cell_type": "code",
   "execution_count": 7,
   "id": "c7e85db1-d436-4e03-a697-cd47154a1815",
   "metadata": {},
   "outputs": [],
   "source": [
    "def images_for_regression(scores_list, dir, train_or_test):\n",
    "    scores_dic = {}\n",
    "\n",
    "    # Copying the image files to the new directory\n",
    "    with open(scores_list) as file:\n",
    "        lines = file.readlines()\n",
    "        count = len(lines)\n",
    "        for line in lines:\n",
    "            image, rating = split_image_rating(line)\n",
    "            # Rating is turned into a string with a space so that I can add it to the .txt doc later.\n",
    "            scores_dic[image] = str(rating) + \" \"\n",
    "            impath = os.path.join(\"data\\original_scut_data\\Images\", image)\n",
    "            new_path = os.path.join(dir, train_or_test)\n",
    "\n",
    "            shutil.copy(impath, new_path)\n",
    "\n",
    "    print(f\"Successfully copied {count} images.\")\n",
    "\n",
    "    # Since the new directory is in alphabetical order, these ratings are out of order.\n",
    "    scores_dic = dict(sorted(scores_dic.items()))\n",
    "    ratings = list(scores_dic.values())\n",
    "\n",
    "    # Creates one really long line of ratings, can be split and casted later into \n",
    "    file = open(f\"{dir}\\{train_or_test}_ratings.txt\",\"x\")\n",
    "    file.writelines(ratings)\n",
    "    file.close()\n",
    "    \n",
    "    print(f\"Successfully created {train_or_test}_ratings.txt.\")"
   ]
  },
  {
   "cell_type": "code",
   "execution_count": 8,
   "id": "3e817a77-0e1e-4967-bb5e-f20192fb5f89",
   "metadata": {},
   "outputs": [
    {
     "name": "stdout",
     "output_type": "stream",
     "text": [
      "Successfully copied 3300 images.\n",
      "Successfully created train_ratings.txt.\n",
      "Successfully copied 2200 images.\n",
      "Successfully created test_ratings.txt.\n"
     ]
    }
   ],
   "source": [
    "train_list = \"data/original_scut_data/train_test_files/split_of_60%training and 40%testing/train.txt\"\n",
    "test_list = \"data/original_scut_data/train_test_files/split_of_60%training and 40%testing/test.txt\"\n",
    "\n",
    "dir = \"data/regression_train_test\"\n",
    "\n",
    "images_for_regression(train_list, dir, \"train\")\n",
    "images_for_regression(test_list, dir, \"test\")"
   ]
  },
  {
   "cell_type": "markdown",
   "id": "34a9695a-de9a-402a-bbe7-fb5f26287a11",
   "metadata": {},
   "source": [
    "### Stratifying Male vs. Female for Regression"
   ]
  },
  {
   "cell_type": "code",
   "execution_count": 3,
   "id": "bee5b762-d333-43e7-a7c1-d9434ab39b42",
   "metadata": {},
   "outputs": [],
   "source": [
    "os.mkdir(\"data/gender_split_regression\")\n",
    "\n",
    "os.mkdir(\"data/gender_split_regression/m_train\")\n",
    "os.mkdir(\"data/gender_split_regression/m_test\")\n",
    "\n",
    "os.mkdir(\"data/gender_split_regression/f_train\")\n",
    "os.mkdir(\"data/gender_split_regression/f_test\")"
   ]
  },
  {
   "cell_type": "code",
   "execution_count": 6,
   "id": "691e6e85-e639-4ad0-9b7e-53345169e0ca",
   "metadata": {},
   "outputs": [
    {
     "name": "stdout",
     "output_type": "stream",
     "text": [
      "[3.433333 2.9      3.966667 ... 3.05     2.4      2.666667]\n",
      "[2.333333 3.45     2.7      ... 2.533333 4.433333 3.05    ]\n"
     ]
    }
   ],
   "source": [
    "import numpy as np\n",
    "\n",
    "train_txt = \"data/regression_train_test/train_ratings.txt\"\n",
    "test_txt = \"data/regression_train_test/test_ratings.txt\"\n",
    "\n",
    "with open(train_txt) as train_ratings:\n",
    "    train_ratings = train_ratings.readlines()[0]\n",
    "    train_ratings = np.array(train_ratings.split())\n",
    "    train_ratings = train_ratings.astype(float)\n",
    "\n",
    "with open(test_txt) as test_ratings:\n",
    "    test_ratings = test_ratings.readlines()[0]\n",
    "    test_ratings = np.array(test_ratings.split())\n",
    "    test_ratings = test_ratings.astype(float)\n",
    "\n",
    "print(train_ratings)\n",
    "print(test_ratings)"
   ]
  },
  {
   "cell_type": "code",
   "execution_count": 42,
   "id": "f3d301e2-4210-4ea6-aa15-0f6563d7e24f",
   "metadata": {
    "scrolled": true
   },
   "outputs": [],
   "source": [
    "import pathlib\n",
    "\n",
    "train_dir = pathlib.Path(\"data/regression_train_test/train\")\n",
    "test_dir = pathlib.Path(\"data/regression_train_test/test\")\n",
    "\n",
    "train_images = list(train_dir.glob(\"*.jpg\"))\n",
    "test_images = list(test_dir.glob(\"*.jpg\"))\n",
    "\n",
    "# Split Training\n",
    "m_train_dict = {}\n",
    "f_train_dict = {}\n",
    "for i, rating in enumerate(train_ratings):\n",
    "    impath = str(train_images[i])\n",
    "    if \"M\" in impath:\n",
    "        m_train_dict[impath] = rating\n",
    "        shutil.copy(train_images[i], \"data/gender_split_regression/m_train\")\n",
    "    elif \"F\" in impath:\n",
    "        f_train_dict[impath] = rating\n",
    "        shutil.copy(train_images[i], \"data/gender_split_regression/f_train\")\n",
    "    else:\n",
    "        print(\"How? (Train)\")\n",
    "\n",
    "# Split Testing\n",
    "m_test_dict = {}\n",
    "f_test_dict = {}\n",
    "for i, rating in enumerate(test_ratings):\n",
    "    impath = str(test_images[i])\n",
    "    if \"M\" in impath:\n",
    "        m_test_dict[impath] = rating\n",
    "        shutil.copy(test_images[i], \"data/gender_split_regression/m_test\")\n",
    "    elif \"F\" in impath:\n",
    "        f_test_dict[impath] = rating\n",
    "        shutil.copy(test_images[i], \"data/gender_split_regression/f_test\")\n",
    "    else:\n",
    "        print(\"How? (Test)\")"
   ]
  },
  {
   "cell_type": "code",
   "execution_count": 43,
   "id": "36085021-cf5e-4d5b-9157-bfa8c1d2ea4a",
   "metadata": {},
   "outputs": [],
   "source": [
    "def write_txt(name, ratings_dict):\n",
    "    ratings_dict = dict(sorted(ratings_dict.items()))\n",
    "    ratings = list(ratings_dict.values())\n",
    "\n",
    "    file = open(name, \"x\")\n",
    "    file.writelines([str(x) + \" \" for x in ratings])\n",
    "    file.close()\n",
    "\n",
    "    print(f\"{name} successfully created.\")"
   ]
  },
  {
   "cell_type": "code",
   "execution_count": 47,
   "id": "3ff1456f-f98b-4567-9de5-fc332285bc91",
   "metadata": {},
   "outputs": [
    {
     "name": "stdout",
     "output_type": "stream",
     "text": [
      "data/gender_split_regression/m_train_ratings successfully created.\n",
      "data/gender_split_regression/f_train_ratings successfully created.\n",
      "data/gender_split_regression/m_test_ratings successfully created.\n",
      "data/gender_split_regression/f_test_ratings successfully created.\n"
     ]
    }
   ],
   "source": [
    "write_txt(\"data/gender_split_regression/m_train_ratings\", m_train_dict)\n",
    "write_txt(\"data/gender_split_regression/f_train_ratings\", f_train_dict)\n",
    "\n",
    "write_txt(\"data/gender_split_regression/m_test_ratings\", m_test_dict)\n",
    "write_txt(\"data/gender_split_regression/f_test_ratings\", f_test_dict)"
   ]
  },
  {
   "cell_type": "code",
   "execution_count": null,
   "id": "83a9dcf0-2b8f-44e4-ab9a-249edfc9f390",
   "metadata": {},
   "outputs": [],
   "source": []
  }
 ],
 "metadata": {
  "kernelspec": {
   "display_name": "Python 3 (ipykernel)",
   "language": "python",
   "name": "python3"
  },
  "language_info": {
   "codemirror_mode": {
    "name": "ipython",
    "version": 3
   },
   "file_extension": ".py",
   "mimetype": "text/x-python",
   "name": "python",
   "nbconvert_exporter": "python",
   "pygments_lexer": "ipython3",
   "version": "3.11.1"
  }
 },
 "nbformat": 4,
 "nbformat_minor": 5
}
