{
 "cells": [
  {
   "cell_type": "markdown",
   "id": "6fa528be-bcda-4ae5-b32b-ed3533da32a1",
   "metadata": {},
   "source": [
    "# Organizing the Facial Attractiveness Data"
   ]
  },
  {
   "cell_type": "markdown",
   "id": "706ce660-58f7-4d34-8f6b-8ba09507964c",
   "metadata": {},
   "source": [
    "### Common Functions"
   ]
  },
  {
   "cell_type": "code",
   "execution_count": 1,
   "id": "897d533b-f57f-4c44-b188-eef04b3a41d0",
   "metadata": {},
   "outputs": [],
   "source": [
    "def split_image_rating(line):\n",
    "    line = line.replace(\"\\n\", \"\")\n",
    "    split_index = line.index(\" \")\n",
    "    file_name = line[:split_index]\n",
    "    rating = float(line[split_index+1:])\n",
    "\n",
    "    return file_name, rating"
   ]
  },
  {
   "cell_type": "markdown",
   "id": "ab388e9a-6020-46e5-a093-1a836780ff24",
   "metadata": {},
   "source": [
    "### Arranging Data For Classification"
   ]
  },
  {
   "cell_type": "code",
   "execution_count": 2,
   "id": "9be1ab9d-eafb-4d54-8f44-d1b7f1b51b8c",
   "metadata": {},
   "outputs": [],
   "source": [
    "import os\n",
    "import shutil"
   ]
  },
  {
   "cell_type": "code",
   "execution_count": 3,
   "id": "97bd7a04-ae80-46dd-bcbc-921e24b122ca",
   "metadata": {},
   "outputs": [],
   "source": [
    "os.mkdir(\"data/classification_train_test\")\n",
    "\n",
    "os.mkdir(\"data/classification_train_test/train\")\n",
    "os.mkdir(\"data/classification_train_test/test\")\n",
    "\n",
    "os.mkdir(\"data/classification_train_test/train/one\")\n",
    "os.mkdir(\"data/classification_train_test/train/two\")\n",
    "os.mkdir(\"data/classification_train_test/train/three\")\n",
    "os.mkdir(\"data/classification_train_test/train/four\")\n",
    "os.mkdir(\"data/classification_train_test/train/five\")\n",
    "\n",
    "os.mkdir(\"data/classification_train_test/test/one\")\n",
    "os.mkdir(\"data/classification_train_test/test/two\")\n",
    "os.mkdir(\"data/classification_train_test/test/three\")\n",
    "os.mkdir(\"data/classification_train_test/test/four\")\n",
    "os.mkdir(\"data/classification_train_test/test/five\")"
   ]
  },
  {
   "cell_type": "code",
   "execution_count": 4,
   "id": "9591c1a1-a23f-44ce-a854-25df0555648d",
   "metadata": {},
   "outputs": [],
   "source": [
    "def images_to_classes(scores_list, dir):\n",
    "    with open(scores_list) as file:\n",
    "        lines = file.readlines()\n",
    "        count = len(lines)\n",
    "        for line in lines:\n",
    "            image, rating = split_image_rating(line)\n",
    "            rating = round(rating)\n",
    "            impath = os.path.join(\"data\\original_scut_data\\Images\", image)\n",
    "\n",
    "            if rating == 1:\n",
    "                new_path = os.path.join(dir, \"one\")\n",
    "                shutil.copy(impath, new_path)\n",
    "            elif rating == 2:\n",
    "                new_path = os.path.join(dir, \"two\")\n",
    "                shutil.copy(impath, new_path)\n",
    "            elif rating == 3:\n",
    "                new_path = os.path.join(dir, \"three\")\n",
    "                shutil.copy(impath, new_path)\n",
    "            elif rating == 4:\n",
    "                new_path = os.path.join(dir, \"four\")\n",
    "                shutil.copy(impath, new_path)\n",
    "            elif rating == 5:\n",
    "                new_path = os.path.join(dir, \"five\")\n",
    "                shutil.copy(impath, new_path)\n",
    "            else:\n",
    "                print(\"???\")\n",
    "    print(f\"Successfully copied {count} files.\")"
   ]
  },
  {
   "cell_type": "code",
   "execution_count": 5,
   "id": "5c22a86b-45af-421a-b969-5d84265e07de",
   "metadata": {},
   "outputs": [
    {
     "name": "stdout",
     "output_type": "stream",
     "text": [
      "Successfully copied 3300 files.\n",
      "Successfully copied 2200 files.\n"
     ]
    }
   ],
   "source": [
    "train_list = \"data/original_scut_data/train_test_files/split_of_60%training and 40%testing/train.txt\"\n",
    "test_list = \"data/original_scut_data/train_test_files/split_of_60%training and 40%testing/test.txt\"\n",
    "\n",
    "train_dir = \"data/classification_train_test/train\"\n",
    "test_dir = \"data/classification_train_test/test\"\n",
    "\n",
    "images_to_classes(train_list, train_dir)\n",
    "images_to_classes(test_list, test_dir)"
   ]
  },
  {
   "cell_type": "markdown",
   "id": "9355175d-87c1-4eb3-9afd-bef1a0906d20",
   "metadata": {},
   "source": [
    "### Arranging Data for Regression"
   ]
  },
  {
   "cell_type": "code",
   "execution_count": 6,
   "id": "862b6091-8bfb-4258-b2b9-2ca876b8ac4d",
   "metadata": {},
   "outputs": [],
   "source": [
    "os.mkdir(\"data/regression_train_test\")\n",
    "\n",
    "os.mkdir(\"data/regression_train_test/train\")\n",
    "os.mkdir(\"data/regression_train_test/test\")"
   ]
  },
  {
   "cell_type": "code",
   "execution_count": 7,
   "id": "c7e85db1-d436-4e03-a697-cd47154a1815",
   "metadata": {},
   "outputs": [],
   "source": [
    "def images_for_regression(scores_list, dir, train_or_test):\n",
    "    scores_dic = {}\n",
    "\n",
    "    # Copying the image files to the new directory\n",
    "    with open(scores_list) as file:\n",
    "        lines = file.readlines()\n",
    "        count = len(lines)\n",
    "        for line in lines:\n",
    "            image, rating = split_image_rating(line)\n",
    "            # Rating is turned into a string with a space so that I can add it to the .txt doc later.\n",
    "            scores_dic[image] = str(rating) + \" \"\n",
    "            impath = os.path.join(\"data\\original_scut_data\\Images\", image)\n",
    "            new_path = os.path.join(dir, train_or_test)\n",
    "\n",
    "            shutil.copy(impath, new_path)\n",
    "\n",
    "    print(f\"Successfully copied {count} images.\")\n",
    "\n",
    "    # Since the new directory is in alphabetical order, these ratings are out of order.\n",
    "    scores_dic = dict(sorted(scores_dic.items()))\n",
    "    ratings = list(scores_dic.values())\n",
    "\n",
    "    # Creates one really long line of ratings, can be split and casted later into \n",
    "    file = open(f\"{dir}\\{train_or_test}_ratings.txt\",\"x\")\n",
    "    file.writelines(ratings)\n",
    "    file.close()\n",
    "    \n",
    "    print(f\"Successfully created {train_or_test}_ratings.txt.\")"
   ]
  },
  {
   "cell_type": "code",
   "execution_count": 8,
   "id": "3e817a77-0e1e-4967-bb5e-f20192fb5f89",
   "metadata": {},
   "outputs": [
    {
     "name": "stdout",
     "output_type": "stream",
     "text": [
      "Successfully copied 3300 images.\n",
      "Successfully created train_ratings.txt.\n",
      "Successfully copied 2200 images.\n",
      "Successfully created test_ratings.txt.\n"
     ]
    }
   ],
   "source": [
    "train_list = \"data/original_scut_data/train_test_files/split_of_60%training and 40%testing/train.txt\"\n",
    "test_list = \"data/original_scut_data/train_test_files/split_of_60%training and 40%testing/test.txt\"\n",
    "\n",
    "dir = \"data/regression_train_test\"\n",
    "\n",
    "images_for_regression(train_list, dir, \"train\")\n",
    "images_for_regression(test_list, dir, \"test\")"
   ]
  },
  {
   "cell_type": "markdown",
   "id": "34a9695a-de9a-402a-bbe7-fb5f26287a11",
   "metadata": {},
   "source": [
    "### Stratifying Male vs. Female for Regression"
   ]
  },
  {
   "cell_type": "code",
   "execution_count": null,
   "id": "bee5b762-d333-43e7-a7c1-d9434ab39b42",
   "metadata": {},
   "outputs": [],
   "source": [
    "# Do this one next."
   ]
  }
 ],
 "metadata": {
  "kernelspec": {
   "display_name": "Python 3 (ipykernel)",
   "language": "python",
   "name": "python3"
  },
  "language_info": {
   "codemirror_mode": {
    "name": "ipython",
    "version": 3
   },
   "file_extension": ".py",
   "mimetype": "text/x-python",
   "name": "python",
   "nbconvert_exporter": "python",
   "pygments_lexer": "ipython3",
   "version": "3.11.1"
  }
 },
 "nbformat": 4,
 "nbformat_minor": 5
}
